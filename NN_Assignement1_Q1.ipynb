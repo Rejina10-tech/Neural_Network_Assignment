{
  "cells": [
    {
      "cell_type": "code",
      "execution_count": null,
      "metadata": {
        "id": "FhfBzYmvKO1Y"
      },
      "outputs": [],
      "source": [
        "#1. Write a python program to create a neuron and predict its output using the threshold activation function."
      ]
    },
    {
      "cell_type": "code",
      "execution_count": null,
      "metadata": {
        "id": "Oq3LB0c88xK2"
      },
      "outputs": [],
      "source": [
        "def predict(inputs, weights, thresold):\n",
        "  weighted_sum = 0\n",
        "  for i in range(len(inputs)):\n",
        "    weighted_sum += inputs[i] * weights[i]\n",
        "\n",
        "  if weighted_sum > thresold:\n",
        "    return 1\n",
        "  else:\n",
        "    return 0"
      ]
    },
    {
      "cell_type": "markdown",
      "metadata": {
        "id": "xKzesZV4JxEM"
      },
      "source": []
    },
    {
      "cell_type": "code",
      "execution_count": null,
      "metadata": {
        "colab": {
          "base_uri": "https://localhost:8080/"
        },
        "id": "lONM-iLq_H4E",
        "outputId": "4385dc3f-3cc2-458d-e3db-d62bd91e4edb"
      },
      "outputs": [
        {
          "name": "stdout",
          "output_type": "stream",
          "text": [
            "0\n"
          ]
        }
      ],
      "source": [
        "inputs = [-1, 2, 3]\n",
        "weights = [0.5, 0.2 , 0.1]\n",
        "print(predict(inputs, weights, 0.5))"
      ]
    },
    {
      "cell_type": "code",
      "execution_count": null,
      "metadata": {
        "id": "UuTFpxhwBx3S"
      },
      "outputs": [],
      "source": []
    },
    {
      "cell_type": "code",
      "execution_count": null,
      "metadata": {
        "id": "O0x3qAqFB0JR"
      },
      "outputs": [],
      "source": []
    }
  ],
  "metadata": {
    "colab": {
      "provenance": []
    },
    "kernelspec": {
      "display_name": "Python 3",
      "name": "python3"
    },
    "language_info": {
      "name": "python"
    }
  },
  "nbformat": 4,
  "nbformat_minor": 0
}
