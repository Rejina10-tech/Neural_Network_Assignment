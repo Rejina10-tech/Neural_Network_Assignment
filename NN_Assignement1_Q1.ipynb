{
  "nbformat": 4,
  "nbformat_minor": 0,
  "metadata": {
    "colab": {
      "provenance": []
    },
    "kernelspec": {
      "name": "python3",
      "display_name": "Python 3"
    },
    "language_info": {
      "name": "python"
    }
  },
  "cells": [
    {
      "cell_type": "code",
      "source": [
        "#1. Write a python program to create a neuron and predict its output using the threshold activation function."
      ],
      "metadata": {
        "id": "FhfBzYmvKO1Y"
      },
      "execution_count": null,
      "outputs": []
    },
    {
      "cell_type": "code",
      "execution_count": null,
      "metadata": {
        "id": "Oq3LB0c88xK2"
      },
      "outputs": [],
      "source": [
        "def predict(inputs, weights, thresold):\n",
        "  weighted_sum = 0\n",
        "  for i in range(len(inputs)):\n",
        "    weighted_sum += inputs[i] * weights[i]\n",
        "\n",
        "  if weighted_sum > thresold:\n",
        "    return 1\n",
        "  else:\n",
        "    return 0"
      ]
    },
    {
      "cell_type": "markdown",
      "source": [],
      "metadata": {
        "id": "xKzesZV4JxEM"
      }
    },
    {
      "cell_type": "code",
      "source": [
        "inputs = [-1, 2, 3]\n",
        "weights = [0.5, 0.2 , 0.1]\n",
        "print(predict(inputs, weights, 0.5))"
      ],
      "metadata": {
        "colab": {
          "base_uri": "https://localhost:8080/"
        },
        "id": "lONM-iLq_H4E",
        "outputId": "4385dc3f-3cc2-458d-e3db-d62bd91e4edb"
      },
      "execution_count": null,
      "outputs": [
        {
          "output_type": "stream",
          "name": "stdout",
          "text": [
            "0\n"
          ]
        }
      ]
    },
    {
      "cell_type": "code",
      "source": [],
      "metadata": {
        "id": "UuTFpxhwBx3S"
      },
      "execution_count": null,
      "outputs": []
    },
    {
      "cell_type": "code",
      "source": [],
      "metadata": {
        "id": "O0x3qAqFB0JR"
      },
      "execution_count": null,
      "outputs": []
    }
  ]
}